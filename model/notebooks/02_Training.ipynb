{
 "cells": [
  {
   "cell_type": "markdown",
   "metadata": {},
   "source": [
    "# IMDB"
   ]
  },
  {
   "cell_type": "code",
   "execution_count": 1,
   "metadata": {},
   "outputs": [],
   "source": [
    "%matplotlib inline\n",
    "import pandas as pd\n",
    "import numpy as np\n",
    "\n",
    "\n",
    "from sklearn.model_selection import train_test_split\n",
    "from sklearn.metrics import confusion_matrix, accuracy_score, classification_report\n",
    "from sklearn.preprocessing import OneHotEncoder\n",
    "\n",
    "import keras\n",
    "\n",
    "from keras import backend as K\n",
    "from keras import regularizers\n",
    "from keras.utils import np_utils\n",
    "from keras.models import Model, Sequential\n",
    "from keras.optimizers import SGD, Adam\n",
    "from keras.layers import Input, Dense, Dropout, Flatten, BatchNormalization, Masking, Activation\n",
    "\n",
    "import matplotlib.pyplot as plt"
   ]
  },
  {
   "cell_type": "code",
   "execution_count": 24,
   "metadata": {},
   "outputs": [],
   "source": [
    "def custom_loss(y_true,y_pred):\n",
    "    y_mask=keras.backend.clip(y_true, 0, 0.01)*100\n",
    "    return K.mean(K.square(y_mask*(y_pred - y_true)), axis=-1)\n"
   ]
  },
  {
   "cell_type": "markdown",
   "metadata": {},
   "source": [
    "## Download the data"
   ]
  },
  {
   "cell_type": "code",
   "execution_count": 25,
   "metadata": {},
   "outputs": [
    {
     "name": "stdout",
     "output_type": "stream",
     "text": [
      "[[0.032 0.    0.032 ... 0.    0.    0.   ]\n",
      " [0.    0.    0.    ... 0.    0.    0.   ]\n",
      " [0.    0.    0.    ... 0.    0.    0.   ]\n",
      " ...\n",
      " [0.02  0.016 0.016 ... 0.    0.    0.   ]\n",
      " [0.024 0.    0.    ... 0.    0.    0.   ]\n",
      " [0.04  0.    0.    ... 0.    0.    0.   ]]\n"
     ]
    }
   ],
   "source": [
    "X_train = np.load(\"../data/preprocessed_data/X_train.npy\", allow_pickle=True)\n",
    "y_train = np.load(\"../data/preprocessed_data/y_train.npy\", allow_pickle=True)\n",
    "X_test = np.load(\"../data/preprocessed_data/X_test.npy\", allow_pickle=True)\n",
    "y_test = np.load(\"../data/preprocessed_data/y_test.npy\", allow_pickle=True)\n",
    "ratedlist = np.load(\"../data/preprocessed_data/ratedlist.npy\", allow_pickle=True)\n",
    "\n",
    "print(X_train)"
   ]
  },
  {
   "cell_type": "code",
   "execution_count": 26,
   "metadata": {},
   "outputs": [
    {
     "name": "stdout",
     "output_type": "stream",
     "text": [
      "Model: \"model_1\"\n",
      "_________________________________________________________________\n",
      "Layer (type)                 Output Shape              Param #   \n",
      "=================================================================\n",
      "input_2 (InputLayer)         [(None, 193609)]          0         \n",
      "_________________________________________________________________\n",
      "masking_1 (Masking)          (None, 193609)            0         \n",
      "_________________________________________________________________\n",
      "dense_6 (Dense)              (None, 64)                12391040  \n",
      "_________________________________________________________________\n",
      "dense_7 (Dense)              (None, 50)                3250      \n",
      "_________________________________________________________________\n",
      "dense_8 (Dense)              (None, 12)                612       \n",
      "_________________________________________________________________\n",
      "dense_9 (Dense)              (None, 50)                650       \n",
      "_________________________________________________________________\n",
      "dense_10 (Dense)             (None, 12)                612       \n",
      "_________________________________________________________________\n",
      "dense_11 (Dense)             (None, 193609)            2516917   \n",
      "=================================================================\n",
      "Total params: 14,913,081\n",
      "Trainable params: 14,913,081\n",
      "Non-trainable params: 0\n",
      "_________________________________________________________________\n"
     ]
    }
   ],
   "source": [
    "input_img = Input(shape=(X_train.shape[1],)) # All movies\n",
    "\n",
    "encoded = Masking(mask_value=0)(input_img)\n",
    "\n",
    "encoded = Dense(64, activation='relu')(encoded)\n",
    "encoded = Dense(50, activation='relu')(encoded)\n",
    "encoded = Dense(12, activation='relu')(encoded)\n",
    "\n",
    "decoded = Dense(50, activation='relu')(encoded)\n",
    "decoded = Dense(12, activation='relu')(decoded)\n",
    "decoded = Dense(y_train.shape[1], activation='sigmoid')(decoded) # All movies\n",
    "\n",
    "autoencoder = Model(input_img, decoded)\n",
    "autoencoder.summary()"
   ]
  },
  {
   "cell_type": "code",
   "execution_count": 27,
   "metadata": {},
   "outputs": [],
   "source": [
    "autoencoder.compile(loss=custom_loss, optimizer='SGD')"
   ]
  },
  {
   "cell_type": "code",
   "execution_count": 28,
   "metadata": {},
   "outputs": [],
   "source": [
    "split = int(X_train.shape[0] * 0.8)"
   ]
  },
  {
   "cell_type": "code",
   "execution_count": 29,
   "metadata": {},
   "outputs": [
    {
     "name": "stdout",
     "output_type": "stream",
     "text": [
      "Epoch 1/15\n",
      "5/5 [==============================] - 9s 2s/step - loss: 1.8579e-04 - val_loss: 1.8579e-04\n",
      "Epoch 2/15\n",
      "5/5 [==============================] - 1s 247ms/step - loss: 1.8579e-04 - val_loss: 1.8579e-04\n",
      "Epoch 3/15\n",
      "5/5 [==============================] - 1s 291ms/step - loss: 1.8579e-04 - val_loss: 1.8579e-04\n",
      "Epoch 4/15\n",
      "5/5 [==============================] - 1s 252ms/step - loss: 1.8579e-04 - val_loss: 1.8579e-04\n",
      "Epoch 5/15\n",
      "5/5 [==============================] - 1s 257ms/step - loss: 1.8579e-04 - val_loss: 1.8579e-04\n",
      "Epoch 6/15\n",
      "5/5 [==============================] - 1s 277ms/step - loss: 1.8579e-04 - val_loss: 1.8579e-04\n",
      "Epoch 7/15\n",
      "5/5 [==============================] - 1s 261ms/step - loss: 1.8579e-04 - val_loss: 1.8579e-04\n",
      "Epoch 8/15\n",
      "5/5 [==============================] - 1s 248ms/step - loss: 1.8579e-04 - val_loss: 1.8579e-04\n",
      "Epoch 9/15\n",
      "5/5 [==============================] - 1s 254ms/step - loss: 1.8579e-04 - val_loss: 1.8579e-04\n",
      "Epoch 10/15\n",
      "5/5 [==============================] - 1s 280ms/step - loss: 1.8579e-04 - val_loss: 1.8579e-04\n",
      "Epoch 11/15\n",
      "5/5 [==============================] - 1s 280ms/step - loss: 1.8579e-04 - val_loss: 1.8579e-04\n",
      "Epoch 12/15\n",
      "5/5 [==============================] - 1s 264ms/step - loss: 1.8579e-04 - val_loss: 1.8579e-04\n",
      "Epoch 13/15\n",
      "5/5 [==============================] - 1s 248ms/step - loss: 1.8579e-04 - val_loss: 1.8579e-04\n",
      "Epoch 14/15\n",
      "5/5 [==============================] - 1s 252ms/step - loss: 1.8579e-04 - val_loss: 1.8579e-04\n",
      "Epoch 15/15\n",
      "5/5 [==============================] - 1s 239ms/step - loss: 1.8579e-04 - val_loss: 1.8579e-04\n"
     ]
    },
    {
     "data": {
      "text/plain": [
       "<tensorflow.python.keras.callbacks.History at 0x26f3c4f5040>"
      ]
     },
     "execution_count": 29,
     "metadata": {},
     "output_type": "execute_result"
    }
   ],
   "source": [
    "epochs = 15\n",
    "batchsize = 128\n",
    "\n",
    "autoencoder.fit(X_train, y_train, epochs=epochs, batch_size=batchsize, validation_data=(X_test, y_test))\n",
    "# autoencoder.fit(X_train[:split], y_train[:split], epochs=epochs, batch_size=batchsize, validation_data=(X_test[split:], y_test[split:]))"
   ]
  },
  {
   "cell_type": "code",
   "execution_count": 30,
   "metadata": {},
   "outputs": [
    {
     "name": "stdout",
     "output_type": "stream",
     "text": [
      "[[0.49999982 0.49999988 0.50000006 ... 0.49999988 0.5000002  0.4999997 ]\n",
      " [0.49999976 0.5        0.5        ... 0.5        0.5000001  0.49999964]\n",
      " [0.49999976 0.5        0.49999994 ... 0.5        0.5000002  0.49999982]\n",
      " ...\n",
      " [0.49999976 0.49999988 0.5        ... 0.5        0.50000024 0.4999997 ]\n",
      " [0.49999988 0.5        0.50000006 ... 0.49999988 0.50000006 0.49999976]\n",
      " [0.49999988 0.49999976 0.5000001  ... 0.49999982 0.5000002  0.49999964]]\n"
     ]
    }
   ],
   "source": [
    "y_predict = autoencoder.predict(X_test)\n",
    "print(y_predict)"
   ]
  },
  {
   "cell_type": "code",
   "execution_count": 32,
   "metadata": {},
   "outputs": [
    {
     "name": "stdout",
     "output_type": "stream",
     "text": [
      "3443.311072179884\n"
     ]
    }
   ],
   "source": [
    "SE = 0 # SquaredError\n",
    "\n",
    "for r in range(ratedlist.shape[0]):\n",
    "    \n",
    "    amount_of_ratings = np.max(np.where(ratedlist[r] > 0)[0])\n",
    "    \n",
    "    diff = np.sum(\n",
    "        (y_test[r, ratedlist[r]] * 5 - y_predict[r, ratedlist[r]] * 5) ** 2\n",
    "    ) / amount_of_ratings\n",
    "    SE += diff\n",
    "print(SE)"
   ]
  },
  {
   "cell_type": "code",
   "execution_count": 33,
   "metadata": {},
   "outputs": [
    {
     "name": "stdout",
     "output_type": "stream",
     "text": [
      "2.375872944724785\n"
     ]
    }
   ],
   "source": [
    "RMSE = np.sqrt(SE / ratedlist.shape[0])\n",
    "print(RMSE)"
   ]
  },
  {
   "cell_type": "code",
   "execution_count": 34,
   "metadata": {},
   "outputs": [
    {
     "name": "stdout",
     "output_type": "stream",
     "text": [
      "Actual ratings\n",
      "[0.16 0.16 0.16 0.2  0.2  0.12 0.2  0.16 0.2  0.2  0.2  0.2  0.12 0.2\n",
      " 0.16 0.2  0.12 0.12 0.2  0.16 0.16 0.2  0.16 0.12 0.16 0.2  0.16 0.12\n",
      " 0.2  0.16 0.16 0.2  0.16 0.16 0.16 0.2  0.2  0.12 0.2  0.12 0.16 0.12\n",
      " 0.12 0.16 0.2  0.2  0.2  0.16 0.2  0.12 0.2  0.2  0.2  0.2  0.12 0.2\n",
      " 0.2  0.16 0.2  0.16 0.2  0.2  0.2  0.16 0.2  0.2  0.16 0.2  0.2  0.2\n",
      " 0.2  0.2  0.16 0.2  0.2  0.16 0.08 0.2  0.2  0.2  0.2  0.2  0.2  0.12\n",
      " 0.16 0.2  0.2  0.2  0.2  0.2  0.2  0.16 0.12 0.12 0.12 0.12 0.16 0.16\n",
      " 0.2  0.16 0.2  0.12 0.2  0.2  0.16 0.2  0.12 0.12 0.2  0.16 0.16 0.2\n",
      " 0.16 0.16 0.2  0.2  0.16 0.16 0.2  0.16 0.2  0.16 0.2  0.16 0.2  0.16\n",
      " 0.2  0.2  0.2  0.12 0.2  0.16 0.16 0.16 0.2  0.2  0.2  0.2  0.2  0.16\n",
      " 0.2  0.16 0.16 0.08 0.16 0.16 0.2  0.2  0.08 0.2  0.16 0.2  0.08 0.2\n",
      " 0.16 0.12 0.2  0.16 0.2  0.2  0.16 0.16 0.2  0.12 0.2  0.2  0.2  0.2\n",
      " 0.2  0.16 0.08 0.16 0.16 0.2  0.16 0.16 0.2  0.12 0.2  0.2  0.2  0.2\n",
      " 0.16 0.16 0.2  0.2  0.2  0.16 0.2  0.2  0.2  0.2  0.2  0.16 0.2  0.2\n",
      " 0.2  0.16 0.2  0.2  0.2  0.2  0.16 0.2  0.16 0.04 0.12 0.12 0.2  0.2\n",
      " 0.2  0.16 0.16 0.2  0.2  0.2  0.16 0.16 0.16 0.2  0.16 0.16 0.2  0.2\n",
      " 0.2  0.2  0.16 0.16 0.2  0.16 0.16 0.2 ]\n",
      "\n",
      "Predicted ratings\n",
      "[2.499999  2.5000002 2.500002  2.5000002 2.5000002 2.499998  2.5000002\n",
      " 2.499998  2.4999988 2.4999998 2.5000002 2.500001  2.4999995 2.500001\n",
      " 2.5000005 2.5000005 2.5       2.5       2.5000014 2.4999995 2.5000005\n",
      " 2.5000002 2.5000012 2.4999995 2.499998  2.499998  2.4999988 2.4999995\n",
      " 2.4999995 2.5       2.4999998 2.5000002 2.5000002 2.5       2.4999988\n",
      " 2.4999995 2.5000012 2.5       2.5000002 2.5000002 2.4999988 2.4999988\n",
      " 2.4999988 2.5       2.4999995 2.4999998 2.500001  2.500001  2.4999995\n",
      " 2.500002  2.5000005 2.4999986 2.499999  2.4999995 2.4999988 2.499999\n",
      " 2.4999995 2.4999988 2.500001  2.4999995 2.4999998 2.4999995 2.5000002\n",
      " 2.4999988 2.4999986 2.4999986 2.499999  2.4999979 2.5       2.5000002\n",
      " 2.4999995 2.5000002 2.4999998 2.5000002 2.499998  2.5000005 2.500001\n",
      " 2.5000014 2.4999995 2.4999988 2.4999995 2.4999988 2.4999995 2.4999995\n",
      " 2.499998  2.5000002 2.4999988 2.4999988 2.4999995 2.5000002 2.499998\n",
      " 2.5       2.4999995 2.5000014 2.5000014 2.5000002 2.5000002 2.4999995\n",
      " 2.4999998 2.4999988 2.500001  2.4999998 2.5       2.4999995 2.4999988\n",
      " 2.500002  2.500001  2.499998  2.4999995 2.5       2.500001  2.5000014\n",
      " 2.4999995 2.4999995 2.4999995 2.499998  2.4999998 2.4999995 2.4999995\n",
      " 2.5000012 2.5000005 2.5000002 2.5000005 2.4999988 2.5000002 2.5\n",
      " 2.4999988 2.5000002 2.5000014 2.5000005 2.5       2.5000021 2.4999988\n",
      " 2.5000014 2.4999988 2.5000012 2.500001  2.499998  2.5000021 2.5\n",
      " 2.4999988 2.4999988 2.4999995 2.4999995 2.4999995 2.5000002 2.5000005\n",
      " 2.5000002 2.4999995 2.500001  2.5000014 2.5000002 2.4999995 2.5000002\n",
      " 2.5000002 2.5000012 2.4999988 2.5       2.4999979 2.5000014 2.4999998\n",
      " 2.4999998 2.4999995 2.5       2.5000002 2.500001  2.4999998 2.5000002\n",
      " 2.4999995 2.5       2.4999995 2.4999979 2.499999  2.4999995 2.500001\n",
      " 2.5000012 2.4999988 2.4999988 2.4999986 2.5000014 2.5000002 2.5000002\n",
      " 2.5000002 2.5000002 2.500002  2.5       2.499998  2.499999  2.5\n",
      " 2.4999995 2.500001  2.5000005 2.500001  2.4999988 2.5000005 2.500001\n",
      " 2.5       2.499998  2.500001  2.5       2.4999988 2.4999988 2.5\n",
      " 2.4999988 2.5000005 2.5000005 2.4999995 2.4999995 2.500001  2.4999995\n",
      " 2.4999998 2.5       2.499998  2.4999995 2.500001  2.499998  2.5000005\n",
      " 2.5000002 2.5000002 2.4999979 2.4999988 2.500002  2.4999995 2.500001\n",
      " 2.4999995 2.5000012 2.4999986 2.5000002 2.5       2.4999995 2.4999988\n",
      " 2.4999986]\n"
     ]
    }
   ],
   "source": [
    "print(\"Actual ratings\")\n",
    "print(y_test[0, ratedlist[0]] * 5)\n",
    "print(\"\\nPredicted ratings\")\n",
    "print(y_predict[0, ratedlist[0]] * 5 )"
   ]
  },
  {
   "cell_type": "code",
   "execution_count": 15,
   "metadata": {},
   "outputs": [],
   "source": [
    "import os"
   ]
  },
  {
   "cell_type": "code",
   "execution_count": 16,
   "metadata": {},
   "outputs": [],
   "source": [
    "os.mkdir('../snapshots')"
   ]
  },
  {
   "cell_type": "code",
   "execution_count": 17,
   "metadata": {},
   "outputs": [],
   "source": [
    "autoencoder.save(\"../snapshots/imdb-model.h5\")"
   ]
  },
  {
   "cell_type": "markdown",
   "metadata": {},
   "source": [
    "## Upload this model to the cloud"
   ]
  },
  {
   "cell_type": "code",
   "execution_count": null,
   "metadata": {},
   "outputs": [],
   "source": []
  },
  {
   "cell_type": "markdown",
   "metadata": {},
   "source": [
    "## Make sure this file is executable in one run"
   ]
  },
  {
   "cell_type": "code",
   "execution_count": null,
   "metadata": {},
   "outputs": [],
   "source": []
  }
 ],
 "metadata": {
  "kernelspec": {
   "display_name": "Python 3.9.7 ('tf-gpu')",
   "language": "python",
   "name": "python3"
  },
  "language_info": {
   "codemirror_mode": {
    "name": "ipython",
    "version": 3
   },
   "file_extension": ".py",
   "mimetype": "text/x-python",
   "name": "python",
   "nbconvert_exporter": "python",
   "pygments_lexer": "ipython3",
   "version": "3.9.7"
  },
  "vscode": {
   "interpreter": {
    "hash": "2615061c9e198615e7c3824fc4ae9aaad6816b988b48791a15d0541696b1eabd"
   }
  }
 },
 "nbformat": 4,
 "nbformat_minor": 4
}

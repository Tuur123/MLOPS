{
 "cells": [
  {
   "cell_type": "markdown",
   "metadata": {},
   "source": [
    "# IMDB"
   ]
  },
  {
   "cell_type": "code",
   "execution_count": 2,
   "metadata": {},
   "outputs": [],
   "source": [
    "%matplotlib inline\n",
    "import pandas as pd\n",
    "import numpy as np\n",
    "\n",
    "\n",
    "from sklearn.model_selection import train_test_split\n",
    "from sklearn.metrics import confusion_matrix, accuracy_score, classification_report\n",
    "from sklearn.preprocessing import OneHotEncoder\n",
    "\n",
    "import keras\n",
    "\n",
    "from keras import backend as K\n",
    "from keras import regularizers\n",
    "from keras.utils import np_utils\n",
    "from keras.models import Model, Sequential\n",
    "from keras.optimizers import SGD, Adam\n",
    "from keras.layers import Input, Dense, Dropout, Flatten, BatchNormalization, Masking, Activation\n",
    "\n",
    "import matplotlib.pyplot as plt"
   ]
  },
  {
   "cell_type": "code",
   "execution_count": 3,
   "metadata": {},
   "outputs": [],
   "source": [
    "def custom_loss(y_true,y_pred):\n",
    "    y_mask=keras.backend.clip(y_true, 0, 0.01)*100\n",
    "    return K.mean(K.square(y_mask*(y_pred - y_true)), axis=-1)\n"
   ]
  },
  {
   "cell_type": "markdown",
   "metadata": {},
   "source": [
    "## Download the data"
   ]
  },
  {
   "cell_type": "code",
   "execution_count": 4,
   "metadata": {},
   "outputs": [],
   "source": [
    "X_train = np.load(\"../data/preprocessed_data/X_train.npy\", allow_pickle=True)\n",
    "y_train = np.load(\"../data/preprocessed_data/y_train.npy\", allow_pickle=True)\n",
    "X_test = np.load(\"../data/preprocessed_data/X_test.npy\", allow_pickle=True)\n",
    "y_test = np.load(\"../data/preprocessed_data/y_test.npy\", allow_pickle=True)\n",
    "ratedlist = np.load(\"../data/preprocessed_data/ratedlist.npy\", allow_pickle=True)"
   ]
  },
  {
   "cell_type": "code",
   "execution_count": 7,
   "metadata": {},
   "outputs": [
    {
     "name": "stdout",
     "output_type": "stream",
     "text": [
      "Model: \"model_1\"\n",
      "_________________________________________________________________\n",
      "Layer (type)                 Output Shape              Param #   \n",
      "=================================================================\n",
      "input_3 (InputLayer)         [(None, 193609)]          0         \n",
      "_________________________________________________________________\n",
      "masking_2 (Masking)          (None, 193609)            0         \n",
      "_________________________________________________________________\n",
      "dense_8 (Dense)              (None, 64)                12391040  \n",
      "_________________________________________________________________\n",
      "dense_9 (Dense)              (None, 50)                3250      \n",
      "_________________________________________________________________\n",
      "dense_10 (Dense)             (None, 12)                612       \n",
      "_________________________________________________________________\n",
      "dense_11 (Dense)             (None, 50)                650       \n",
      "_________________________________________________________________\n",
      "dense_12 (Dense)             (None, 12)                612       \n",
      "_________________________________________________________________\n",
      "dense_13 (Dense)             (None, 193609)            2516917   \n",
      "=================================================================\n",
      "Total params: 14,913,081\n",
      "Trainable params: 14,913,081\n",
      "Non-trainable params: 0\n",
      "_________________________________________________________________\n"
     ]
    }
   ],
   "source": [
    "input_img = Input(shape=(X_train.shape[1],)) # All movies\n",
    "\n",
    "encoded = Masking(mask_value=0)(input_img)\n",
    "\n",
    "encoded = Dense(64, activation='relu')(encoded)\n",
    "encoded = Dense(50, activation='relu')(encoded)\n",
    "encoded = Dense(12, activation='relu')(encoded)\n",
    "\n",
    "decoded = Dense(50, activation='relu')(encoded)\n",
    "decoded = Dense(12, activation='relu')(decoded)\n",
    "decoded = Dense(y_train.shape[1], activation='sigmoid')(decoded) # All movies\n",
    "\n",
    "autoencoder = Model(input_img, decoded)\n",
    "autoencoder.summary()"
   ]
  },
  {
   "cell_type": "code",
   "execution_count": 8,
   "metadata": {},
   "outputs": [],
   "source": [
    "autoencoder.compile(loss=custom_loss, optimizer='adam')"
   ]
  },
  {
   "cell_type": "code",
   "execution_count": 9,
   "metadata": {},
   "outputs": [],
   "source": [
    "split = int(X_train.shape[0] * 0.8)"
   ]
  },
  {
   "cell_type": "code",
   "execution_count": 10,
   "metadata": {},
   "outputs": [
    {
     "name": "stdout",
     "output_type": "stream",
     "text": [
      "Epoch 1/15\n",
      "5/5 [==============================] - 6s 582ms/step - loss: 1.8578e-04 - val_loss: 1.8574e-04\n",
      "Epoch 2/15\n",
      "5/5 [==============================] - 1s 198ms/step - loss: 1.8571e-04 - val_loss: 1.8566e-04\n",
      "Epoch 3/15\n",
      "5/5 [==============================] - 1s 189ms/step - loss: 1.8562e-04 - val_loss: 1.8555e-04\n",
      "Epoch 4/15\n",
      "5/5 [==============================] - 1s 191ms/step - loss: 1.8551e-04 - val_loss: 1.8544e-04\n",
      "Epoch 5/15\n",
      "5/5 [==============================] - 1s 177ms/step - loss: 1.8539e-04 - val_loss: 1.8531e-04\n",
      "Epoch 6/15\n",
      "5/5 [==============================] - 1s 177ms/step - loss: 1.8526e-04 - val_loss: 1.8517e-04\n",
      "Epoch 7/15\n",
      "5/5 [==============================] - 1s 182ms/step - loss: 1.8512e-04 - val_loss: 1.8502e-04\n",
      "Epoch 8/15\n",
      "5/5 [==============================] - 1s 187ms/step - loss: 1.8497e-04 - val_loss: 1.8487e-04\n",
      "Epoch 9/15\n",
      "5/5 [==============================] - 1s 186ms/step - loss: 1.8481e-04 - val_loss: 1.8471e-04\n",
      "Epoch 10/15\n",
      "5/5 [==============================] - 1s 187ms/step - loss: 1.8465e-04 - val_loss: 1.8455e-04\n",
      "Epoch 11/15\n",
      "5/5 [==============================] - 1s 169ms/step - loss: 1.8448e-04 - val_loss: 1.8437e-04\n",
      "Epoch 12/15\n",
      "5/5 [==============================] - 1s 178ms/step - loss: 1.8430e-04 - val_loss: 1.8420e-04\n",
      "Epoch 13/15\n",
      "5/5 [==============================] - 1s 181ms/step - loss: 1.8413e-04 - val_loss: 1.8401e-04\n",
      "Epoch 14/15\n",
      "5/5 [==============================] - 1s 179ms/step - loss: 1.8394e-04 - val_loss: 1.8383e-04\n",
      "Epoch 15/15\n",
      "5/5 [==============================] - 1s 151ms/step - loss: 1.8375e-04 - val_loss: 1.8364e-04\n"
     ]
    },
    {
     "data": {
      "text/plain": [
       "<tensorflow.python.keras.callbacks.History at 0x1b993d04250>"
      ]
     },
     "execution_count": 10,
     "metadata": {},
     "output_type": "execute_result"
    }
   ],
   "source": [
    "epochs = 15\n",
    "batchsize = 128\n",
    "\n",
    "autoencoder.fit(X_train, y_train, epochs=epochs, batch_size=batchsize, validation_data=(X_test, y_test))\n",
    "# autoencoder.fit(X_train[:split], y_train[:split], epochs=epochs, batch_size=batchsize, validation_data=(X_test[split:], y_test[split:]))"
   ]
  },
  {
   "cell_type": "code",
   "execution_count": 11,
   "metadata": {},
   "outputs": [],
   "source": [
    "y_predict = autoencoder.predict(X_test)"
   ]
  },
  {
   "cell_type": "code",
   "execution_count": 12,
   "metadata": {},
   "outputs": [],
   "source": [
    "SE = 0 # SquaredError\n",
    "\n",
    "for r in range(ratedlist.shape[0]):\n",
    "    \n",
    "    amount_of_ratings = np.max(np.where(ratedlist[r] > 0)[0])\n",
    "    \n",
    "    diff = np.sum(\n",
    "        (y_test[r, ratedlist[r]] * 5 - y_predict[r, ratedlist[r]] * 5) ** 2\n",
    "    ) / amount_of_ratings\n",
    "    SE += diff"
   ]
  },
  {
   "cell_type": "code",
   "execution_count": 13,
   "metadata": {},
   "outputs": [
    {
     "name": "stdout",
     "output_type": "stream",
     "text": [
      "2.358106142082608\n"
     ]
    }
   ],
   "source": [
    "RMSE = np.sqrt(SE / ratedlist.shape[0])\n",
    "print(RMSE)"
   ]
  },
  {
   "cell_type": "code",
   "execution_count": 14,
   "metadata": {},
   "outputs": [
    {
     "name": "stdout",
     "output_type": "stream",
     "text": [
      "Actual ratings\n",
      "[0.16 0.16 0.16 0.2  0.2  0.12 0.2  0.16 0.2  0.2  0.2  0.2  0.12 0.2\n",
      " 0.16 0.2  0.12 0.12 0.2  0.16 0.16 0.2  0.16 0.12 0.16 0.2  0.16 0.12\n",
      " 0.2  0.16 0.16 0.2  0.16 0.16 0.16 0.2  0.2  0.12 0.2  0.12 0.16 0.12\n",
      " 0.12 0.16 0.2  0.2  0.2  0.16 0.2  0.12 0.2  0.2  0.2  0.2  0.12 0.2\n",
      " 0.2  0.16 0.2  0.16 0.2  0.2  0.2  0.16 0.2  0.2  0.16 0.2  0.2  0.2\n",
      " 0.2  0.2  0.16 0.2  0.2  0.16 0.08 0.2  0.2  0.2  0.2  0.2  0.2  0.12\n",
      " 0.16 0.2  0.2  0.2  0.2  0.2  0.2  0.16 0.12 0.12 0.12 0.12 0.16 0.16\n",
      " 0.2  0.16 0.2  0.12 0.2  0.2  0.16 0.2  0.12 0.12 0.2  0.16 0.16 0.2\n",
      " 0.16 0.16 0.2  0.2  0.16 0.16 0.2  0.16 0.2  0.16 0.2  0.16 0.2  0.16\n",
      " 0.2  0.2  0.2  0.12 0.2  0.16 0.16 0.16 0.2  0.2  0.2  0.2  0.2  0.16\n",
      " 0.2  0.16 0.16 0.08 0.16 0.16 0.2  0.2  0.08 0.2  0.16 0.2  0.08 0.2\n",
      " 0.16 0.12 0.2  0.16 0.2  0.2  0.16 0.16 0.2  0.12 0.2  0.2  0.2  0.2\n",
      " 0.2  0.16 0.08 0.16 0.16 0.2  0.16 0.16 0.2  0.12 0.2  0.2  0.2  0.2\n",
      " 0.16 0.16 0.2  0.2  0.2  0.16 0.2  0.2  0.2  0.2  0.2  0.16 0.2  0.2\n",
      " 0.2  0.16 0.2  0.2  0.2  0.2  0.16 0.2  0.16 0.04 0.12 0.12 0.2  0.2\n",
      " 0.2  0.16 0.16 0.2  0.2  0.2  0.16 0.16 0.16 0.2  0.16 0.16 0.2  0.2\n",
      " 0.2  0.2  0.16 0.16 0.2  0.16 0.16 0.2 ]\n",
      "\n",
      "Predicted ratings\n",
      "[2.460734  2.4857287 2.4758644 2.462269  2.4620497 2.4850516 2.4929578\n",
      " 2.458891  2.4875813 2.496417  2.482778  2.486433  2.4752803 2.4710536\n",
      " 2.481752  2.4574022 2.4531057 2.4695508 2.48592   2.4742026 2.451489\n",
      " 2.4900231 2.4677637 2.4966142 2.4880512 2.46362   2.458369  2.4691157\n",
      " 2.4606106 2.4881787 2.4832773 2.4828432 2.4664161 2.4632423 2.4552855\n",
      " 2.483806  2.4644432 2.4668243 2.4866052 2.4860687 2.472673  2.4724422\n",
      " 2.4622207 2.4973807 2.4776878 2.481875  2.4973743 2.4976716 2.4943142\n",
      " 2.4970493 2.495686  2.4981406 2.4922225 2.4895756 2.495131  2.4925032\n",
      " 2.4885533 2.4877493 2.4935005 2.4895654 2.4730694 2.4781504 2.4711165\n",
      " 2.4834163 2.4865856 2.4726005 2.4834566 2.4704766 2.4611387 2.4692795\n",
      " 2.4626122 2.4729412 2.4746337 2.4628    2.4718463 2.469156  2.4790618\n",
      " 2.4789495 2.4756887 2.4940033 2.4979105 2.471313  2.4930327 2.4746113\n",
      " 2.4692473 2.4656835 2.4866292 2.4820058 2.4852655 2.469815  2.4928133\n",
      " 2.4949257 2.4837778 2.48671   2.488521  2.4979703 2.4995346 2.4838803\n",
      " 2.4759817 2.484499  2.480729  2.4663556 2.490974  2.4767365 2.4961233\n",
      " 2.4804106 2.4915588 2.4798794 2.47577   2.4846418 2.4992332 2.4989567\n",
      " 2.4912705 2.4942427 2.4968562 2.4834378 2.4880288 2.4803567 2.4843566\n",
      " 2.4781492 2.488968  2.463574  2.4973528 2.4925718 2.497242  2.482302\n",
      " 2.4911544 2.4852839 2.4958916 2.4979076 2.4885185 2.4930747 2.4980328\n",
      " 2.4859183 2.4745867 2.4949462 2.493679  2.493422  2.494325  2.4958951\n",
      " 2.4876351 2.4778848 2.4884062 2.4940696 2.4843857 2.4880583 2.4795046\n",
      " 2.4713082 2.494709  2.4822922 2.492419  2.4950397 2.4974546 2.4846337\n",
      " 2.484978  2.4964573 2.490183  2.495565  2.4960682 2.4843435 2.4921446\n",
      " 2.4977412 2.4771557 2.4924862 2.4845572 2.482316  2.4555159 2.4887888\n",
      " 2.4960706 2.492108  2.479155  2.4703636 2.4835107 2.4862638 2.4970665\n",
      " 2.4964538 2.498472  2.483295  2.4806695 2.4807868 2.4725637 2.4887013\n",
      " 2.4776456 2.4921768 2.4622269 2.4923608 2.4991117 2.4779484 2.4904046\n",
      " 2.4851606 2.4892342 2.4902105 2.4606779 2.4819894 2.4767091 2.4928553\n",
      " 2.4925666 2.47634   2.483944  2.4896202 2.4800205 2.4965832 2.4962559\n",
      " 2.474342  2.4912462 2.4866037 2.4952097 2.4893851 2.4837382 2.491958\n",
      " 2.490978  2.4959965 2.496433  2.49548   2.4877768 2.491554  2.494265\n",
      " 2.4851065 2.4836504 2.4661853 2.4883235 2.494429  2.4833622 2.488743\n",
      " 2.4882922 2.499101  2.4916384 2.4940982 2.471088  2.4897487 2.4978776\n",
      " 2.487118 ]\n"
     ]
    }
   ],
   "source": [
    "print(\"Actual ratings\")\n",
    "print(y_test[0, ratedlist[0]] * 5)\n",
    "print(\"\\nPredicted ratings\")\n",
    "print(y_predict[0, ratedlist[0]] * 5 )"
   ]
  },
  {
   "cell_type": "code",
   "execution_count": 15,
   "metadata": {},
   "outputs": [],
   "source": [
    "import os"
   ]
  },
  {
   "cell_type": "code",
   "execution_count": 16,
   "metadata": {},
   "outputs": [],
   "source": [
    "os.mkdir('../snapshots')"
   ]
  },
  {
   "cell_type": "code",
   "execution_count": 17,
   "metadata": {},
   "outputs": [],
   "source": [
    "autoencoder.save(\"../snapshots/imdb-model.h5\")"
   ]
  },
  {
   "cell_type": "markdown",
   "metadata": {},
   "source": [
    "## Upload this model to the cloud"
   ]
  },
  {
   "cell_type": "code",
   "execution_count": null,
   "metadata": {},
   "outputs": [],
   "source": []
  },
  {
   "cell_type": "markdown",
   "metadata": {},
   "source": [
    "## Make sure this file is executable in one run"
   ]
  },
  {
   "cell_type": "code",
   "execution_count": null,
   "metadata": {},
   "outputs": [],
   "source": []
  }
 ],
 "metadata": {
  "kernelspec": {
   "display_name": "Python 3 (ipykernel)",
   "language": "python",
   "name": "python3"
  },
  "language_info": {
   "codemirror_mode": {
    "name": "ipython",
    "version": 3
   },
   "file_extension": ".py",
   "mimetype": "text/x-python",
   "name": "python",
   "nbconvert_exporter": "python",
   "pygments_lexer": "ipython3",
   "version": "3.9.7"
  }
 },
 "nbformat": 4,
 "nbformat_minor": 4
}

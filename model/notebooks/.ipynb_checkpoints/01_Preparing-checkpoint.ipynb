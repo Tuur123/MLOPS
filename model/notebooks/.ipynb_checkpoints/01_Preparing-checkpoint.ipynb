{
 "cells": [
  {
   "cell_type": "markdown",
   "metadata": {},
   "source": [
    "# IMDB"
   ]
  },
  {
   "cell_type": "code",
   "execution_count": null,
   "metadata": {},
   "outputs": [],
   "source": [
    "%matplotlib inline\n",
    "import pandas as pd\n",
    "import numpy as np"
   ]
  },
  {
   "cell_type": "code",
   "execution_count": null,
   "metadata": {},
   "outputs": [],
   "source": [
    "dataset = pd.read_csv('../data/MovieLens/ratings.dat',sep='::',header=None, engine='python',\n",
    "                     names=[\"User\", \"Movie\", \"Rating\", \"Timestamp\"])\n",
    "\n",
    "dataset.tail()"
   ]
  },
  {
   "cell_type": "code",
   "execution_count": null,
   "metadata": {},
   "outputs": [],
   "source": [
    "%%time\n",
    "# Normalize the Rating and create a Pivot with the Index as the UserId and the Movie as the Columns. The values come from the Rating, we fill the non-existent values.\n",
    "dataset['Rating'] = dataset['Rating'] / 5.0\n",
    "movieratings_dataframe = dataset.pivot(index='User',columns='Movie',values='Rating').fillna(0)"
   ]
  },
  {
   "cell_type": "code",
   "execution_count": null,
   "metadata": {},
   "outputs": [],
   "source": [
    "# There are a total of 3706 unique movies, but the movie IDs go untill 3952\n",
    "# len(np.unique(dataset['Movie'])) # if you don't believe me\n",
    "print(movieratings_dataframe.shape)"
   ]
  },
  {
   "cell_type": "code",
   "execution_count": null,
   "metadata": {},
   "outputs": [],
   "source": [
    "movieratings_dataframe = movieratings_dataframe.reindex(movieratings_dataframe.columns.union(np.arange(1, max(dataset['Movie']))), axis=1, fill_value=0.0)"
   ]
  },
  {
   "cell_type": "code",
   "execution_count": null,
   "metadata": {},
   "outputs": [],
   "source": [
    "# We need all the columns, even if there are no reviews for those movies\n",
    "print(movieratings_dataframe.shape)"
   ]
  },
  {
   "cell_type": "code",
   "execution_count": null,
   "metadata": {},
   "outputs": [],
   "source": [
    "movieratings_dataframe.head()"
   ]
  },
  {
   "cell_type": "markdown",
   "metadata": {},
   "source": [
    "### Creating train-test data"
   ]
  },
  {
   "cell_type": "code",
   "execution_count": null,
   "metadata": {},
   "outputs": [],
   "source": [
    "movieratings = np.asarray(movieratings_dataframe)"
   ]
  },
  {
   "cell_type": "code",
   "execution_count": null,
   "metadata": {},
   "outputs": [],
   "source": [
    "test_ratings_per_user = 10  # The amount of ratings of one user that we will copy to the Test-set\n",
    "X_train = movieratings.copy() # Copy the whole list\n",
    "X_test = np.zeros(movieratings.shape) # Make a list with only zeros\n",
    "y_train = movieratings.copy() # Copy the whole list\n",
    "y_test = movieratings.copy() # Copy the whole list"
   ]
  },
  {
   "cell_type": "code",
   "execution_count": null,
   "metadata": {},
   "outputs": [],
   "source": [
    "ratedlist = [] # This will contain all the movieratings in our test_set so we can check it later\n",
    "for i in range(0, movieratings.shape[0]): # For every user, we have to set a few movieratings to 0\n",
    "    ratedmovies = np.where(movieratings[i,:] > 0.0)[0] # Get a list of movies with a rating greater than 0\n",
    "    ratedlist.append(ratedmovies)\n",
    "    #print(ratedmovies)\n",
    "    index = np.random.choice(len(ratedmovies), test_ratings_per_user, replace=False)\n",
    "    \n",
    "    X_train[i,ratedmovies[index]] = 0 # Set rating to 0 in training set\n",
    "    X_test[i,ratedmovies[index]] = movieratings[i,ratedmovies[index]].copy() # Copy the value of the rating to the test set"
   ]
  },
  {
   "cell_type": "code",
   "execution_count": null,
   "metadata": {},
   "outputs": [],
   "source": [
    "np.save(\"../data/X_train.npy\", X_train)\n",
    "np.save(\"../data/y_train.npy\", y_train)\n",
    "np.save(\"../data/X_test.npy\", X_test)\n",
    "np.save(\"../data/y_test.npy\", y_test)\n",
    "np.save(\"../data/ratedlist.npy\", np.asarray(ratedlist))"
   ]
  },
  {
   "cell_type": "markdown",
   "metadata": {},
   "source": [
    "## Upload this dataset to the cloud"
   ]
  },
  {
   "cell_type": "code",
   "execution_count": null,
   "metadata": {},
   "outputs": [],
   "source": []
  },
  {
   "cell_type": "markdown",
   "metadata": {},
   "source": [
    "## Make sure this file is executable in one run"
   ]
  },
  {
   "cell_type": "code",
   "execution_count": null,
   "metadata": {},
   "outputs": [],
   "source": []
  }
 ],
 "metadata": {
  "kernelspec": {
   "display_name": "Python [conda env:05_IMDB]",
   "language": "python",
   "name": "conda-env-05_IMDB-py"
  },
  "language_info": {
   "codemirror_mode": {
    "name": "ipython",
    "version": 3
   },
   "file_extension": ".py",
   "mimetype": "text/x-python",
   "name": "python",
   "nbconvert_exporter": "python",
   "pygments_lexer": "ipython3",
   "version": "3.8.5"
  }
 },
 "nbformat": 4,
 "nbformat_minor": 2
}

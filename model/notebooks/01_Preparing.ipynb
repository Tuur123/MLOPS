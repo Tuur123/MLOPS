{
 "cells": [
  {
   "cell_type": "markdown",
   "metadata": {},
   "source": [
    "# IMDB"
   ]
  },
  {
   "cell_type": "code",
   "execution_count": 29,
   "metadata": {},
   "outputs": [],
   "source": [
    "%matplotlib inline\n",
    "import pandas as pd\n",
    "import numpy as np"
   ]
  },
  {
   "cell_type": "code",
   "execution_count": 30,
   "metadata": {},
   "outputs": [
    {
     "data": {
      "text/html": [
       "<div>\n",
       "<style scoped>\n",
       "    .dataframe tbody tr th:only-of-type {\n",
       "        vertical-align: middle;\n",
       "    }\n",
       "\n",
       "    .dataframe tbody tr th {\n",
       "        vertical-align: top;\n",
       "    }\n",
       "\n",
       "    .dataframe thead th {\n",
       "        text-align: right;\n",
       "    }\n",
       "</style>\n",
       "<table border=\"1\" class=\"dataframe\">\n",
       "  <thead>\n",
       "    <tr style=\"text-align: right;\">\n",
       "      <th></th>\n",
       "      <th>User</th>\n",
       "      <th>Movie</th>\n",
       "      <th>Rating</th>\n",
       "      <th>Timestamp</th>\n",
       "    </tr>\n",
       "  </thead>\n",
       "  <tbody>\n",
       "    <tr>\n",
       "      <th>100831</th>\n",
       "      <td>610</td>\n",
       "      <td>166534</td>\n",
       "      <td>4.0</td>\n",
       "      <td>1493848402</td>\n",
       "    </tr>\n",
       "    <tr>\n",
       "      <th>100832</th>\n",
       "      <td>610</td>\n",
       "      <td>168248</td>\n",
       "      <td>5.0</td>\n",
       "      <td>1493850091</td>\n",
       "    </tr>\n",
       "    <tr>\n",
       "      <th>100833</th>\n",
       "      <td>610</td>\n",
       "      <td>168250</td>\n",
       "      <td>5.0</td>\n",
       "      <td>1494273047</td>\n",
       "    </tr>\n",
       "    <tr>\n",
       "      <th>100834</th>\n",
       "      <td>610</td>\n",
       "      <td>168252</td>\n",
       "      <td>5.0</td>\n",
       "      <td>1493846352</td>\n",
       "    </tr>\n",
       "    <tr>\n",
       "      <th>100835</th>\n",
       "      <td>610</td>\n",
       "      <td>170875</td>\n",
       "      <td>3.0</td>\n",
       "      <td>1493846415</td>\n",
       "    </tr>\n",
       "  </tbody>\n",
       "</table>\n",
       "</div>"
      ],
      "text/plain": [
       "        User   Movie  Rating   Timestamp\n",
       "100831   610  166534     4.0  1493848402\n",
       "100832   610  168248     5.0  1493850091\n",
       "100833   610  168250     5.0  1494273047\n",
       "100834   610  168252     5.0  1493846352\n",
       "100835   610  170875     3.0  1493846415"
      ]
     },
     "execution_count": 30,
     "metadata": {},
     "output_type": "execute_result"
    }
   ],
   "source": [
    "dataset = pd.read_csv('../data/MovieLens/ratings.csv',sep=',',header=None, engine='python', skiprows=1,\n",
    "                     names=[\"User\", \"Movie\", \"Rating\", \"Timestamp\"])\n",
    "\n",
    "dataset.tail()"
   ]
  },
  {
   "cell_type": "code",
   "execution_count": 33,
   "metadata": {},
   "outputs": [
    {
     "name": "stdout",
     "output_type": "stream",
     "text": [
      "Movie  1       2       3       4       5       6       7       8       9       \\\n",
      "User                                                                            \n",
      "1       0.032   0.000   0.032     0.0     0.0   0.032    0.00     0.0     0.0   \n",
      "2       0.000   0.000   0.000     0.0     0.0   0.000    0.00     0.0     0.0   \n",
      "3       0.000   0.000   0.000     0.0     0.0   0.000    0.00     0.0     0.0   \n",
      "4       0.000   0.000   0.000     0.0     0.0   0.000    0.00     0.0     0.0   \n",
      "5       0.032   0.000   0.000     0.0     0.0   0.000    0.00     0.0     0.0   \n",
      "...       ...     ...     ...     ...     ...     ...     ...     ...     ...   \n",
      "606     0.020   0.000   0.000     0.0     0.0   0.000    0.02     0.0     0.0   \n",
      "607     0.032   0.000   0.000     0.0     0.0   0.000    0.00     0.0     0.0   \n",
      "608     0.020   0.016   0.016     0.0     0.0   0.000    0.00     0.0     0.0   \n",
      "609     0.024   0.000   0.000     0.0     0.0   0.000    0.00     0.0     0.0   \n",
      "610     0.040   0.000   0.000     0.0     0.0   0.040    0.00     0.0     0.0   \n",
      "\n",
      "Movie  10      ...  193565  193567  193571  193573  193579  193581  193583  \\\n",
      "User           ...                                                           \n",
      "1       0.000  ...     0.0     0.0     0.0     0.0     0.0     0.0     0.0   \n",
      "2       0.000  ...     0.0     0.0     0.0     0.0     0.0     0.0     0.0   \n",
      "3       0.000  ...     0.0     0.0     0.0     0.0     0.0     0.0     0.0   \n",
      "4       0.000  ...     0.0     0.0     0.0     0.0     0.0     0.0     0.0   \n",
      "5       0.000  ...     0.0     0.0     0.0     0.0     0.0     0.0     0.0   \n",
      "...       ...  ...     ...     ...     ...     ...     ...     ...     ...   \n",
      "606     0.000  ...     0.0     0.0     0.0     0.0     0.0     0.0     0.0   \n",
      "607     0.000  ...     0.0     0.0     0.0     0.0     0.0     0.0     0.0   \n",
      "608     0.032  ...     0.0     0.0     0.0     0.0     0.0     0.0     0.0   \n",
      "609     0.032  ...     0.0     0.0     0.0     0.0     0.0     0.0     0.0   \n",
      "610     0.000  ...     0.0     0.0     0.0     0.0     0.0     0.0     0.0   \n",
      "\n",
      "Movie  193585  193587  193609  \n",
      "User                           \n",
      "1         0.0     0.0     0.0  \n",
      "2         0.0     0.0     0.0  \n",
      "3         0.0     0.0     0.0  \n",
      "4         0.0     0.0     0.0  \n",
      "5         0.0     0.0     0.0  \n",
      "...       ...     ...     ...  \n",
      "606       0.0     0.0     0.0  \n",
      "607       0.0     0.0     0.0  \n",
      "608       0.0     0.0     0.0  \n",
      "609       0.0     0.0     0.0  \n",
      "610       0.0     0.0     0.0  \n",
      "\n",
      "[610 rows x 9724 columns]\n",
      "Wall time: 214 ms\n"
     ]
    }
   ],
   "source": [
    "%%time\n",
    "# Normalize the Rating and create a Pivot with the Index as the UserId and the Movie as the Columns. The values come from the Rating, we fill the non-existent values.\n",
    "dataset['Rating'] = dataset['Rating'] / 5.0\n",
    "movieratings_dataframe = dataset.pivot(index='User',columns='Movie',values='Rating').fillna(0)\n",
    "\n",
    "print(movieratings_dataframe)"
   ]
  },
  {
   "cell_type": "code",
   "execution_count": 34,
   "metadata": {},
   "outputs": [
    {
     "name": "stdout",
     "output_type": "stream",
     "text": [
      "9724\n",
      "(610, 9724)\n"
     ]
    }
   ],
   "source": [
    "# There are a total of 3706 unique movies, but the movie IDs go untill 3952\n",
    "print(len(np.unique(dataset['Movie']))) # if you don't believe me\n",
    "print(movieratings_dataframe.shape)"
   ]
  },
  {
   "cell_type": "code",
   "execution_count": 35,
   "metadata": {},
   "outputs": [],
   "source": [
    "movieratings_dataframe = movieratings_dataframe.reindex(movieratings_dataframe.columns.union(np.arange(1, max(dataset['Movie']))), axis=1, fill_value=0.0)"
   ]
  },
  {
   "cell_type": "code",
   "execution_count": 36,
   "metadata": {},
   "outputs": [
    {
     "name": "stdout",
     "output_type": "stream",
     "text": [
      "(610, 193609)\n"
     ]
    }
   ],
   "source": [
    "# We need all the columns, even if there are no reviews for those movies\n",
    "print(movieratings_dataframe.shape)"
   ]
  },
  {
   "cell_type": "code",
   "execution_count": 37,
   "metadata": {},
   "outputs": [
    {
     "data": {
      "text/html": [
       "<div>\n",
       "<style scoped>\n",
       "    .dataframe tbody tr th:only-of-type {\n",
       "        vertical-align: middle;\n",
       "    }\n",
       "\n",
       "    .dataframe tbody tr th {\n",
       "        vertical-align: top;\n",
       "    }\n",
       "\n",
       "    .dataframe thead th {\n",
       "        text-align: right;\n",
       "    }\n",
       "</style>\n",
       "<table border=\"1\" class=\"dataframe\">\n",
       "  <thead>\n",
       "    <tr style=\"text-align: right;\">\n",
       "      <th>Movie</th>\n",
       "      <th>1</th>\n",
       "      <th>2</th>\n",
       "      <th>3</th>\n",
       "      <th>4</th>\n",
       "      <th>5</th>\n",
       "      <th>6</th>\n",
       "      <th>7</th>\n",
       "      <th>8</th>\n",
       "      <th>9</th>\n",
       "      <th>10</th>\n",
       "      <th>...</th>\n",
       "      <th>193600</th>\n",
       "      <th>193601</th>\n",
       "      <th>193602</th>\n",
       "      <th>193603</th>\n",
       "      <th>193604</th>\n",
       "      <th>193605</th>\n",
       "      <th>193606</th>\n",
       "      <th>193607</th>\n",
       "      <th>193608</th>\n",
       "      <th>193609</th>\n",
       "    </tr>\n",
       "    <tr>\n",
       "      <th>User</th>\n",
       "      <th></th>\n",
       "      <th></th>\n",
       "      <th></th>\n",
       "      <th></th>\n",
       "      <th></th>\n",
       "      <th></th>\n",
       "      <th></th>\n",
       "      <th></th>\n",
       "      <th></th>\n",
       "      <th></th>\n",
       "      <th></th>\n",
       "      <th></th>\n",
       "      <th></th>\n",
       "      <th></th>\n",
       "      <th></th>\n",
       "      <th></th>\n",
       "      <th></th>\n",
       "      <th></th>\n",
       "      <th></th>\n",
       "      <th></th>\n",
       "      <th></th>\n",
       "    </tr>\n",
       "  </thead>\n",
       "  <tbody>\n",
       "    <tr>\n",
       "      <th>606</th>\n",
       "      <td>0.020</td>\n",
       "      <td>0.000</td>\n",
       "      <td>0.000</td>\n",
       "      <td>0.0</td>\n",
       "      <td>0.0</td>\n",
       "      <td>0.00</td>\n",
       "      <td>0.02</td>\n",
       "      <td>0.0</td>\n",
       "      <td>0.0</td>\n",
       "      <td>0.000</td>\n",
       "      <td>...</td>\n",
       "      <td>0.0</td>\n",
       "      <td>0.0</td>\n",
       "      <td>0.0</td>\n",
       "      <td>0.0</td>\n",
       "      <td>0.0</td>\n",
       "      <td>0.0</td>\n",
       "      <td>0.0</td>\n",
       "      <td>0.0</td>\n",
       "      <td>0.0</td>\n",
       "      <td>0.0</td>\n",
       "    </tr>\n",
       "    <tr>\n",
       "      <th>607</th>\n",
       "      <td>0.032</td>\n",
       "      <td>0.000</td>\n",
       "      <td>0.000</td>\n",
       "      <td>0.0</td>\n",
       "      <td>0.0</td>\n",
       "      <td>0.00</td>\n",
       "      <td>0.00</td>\n",
       "      <td>0.0</td>\n",
       "      <td>0.0</td>\n",
       "      <td>0.000</td>\n",
       "      <td>...</td>\n",
       "      <td>0.0</td>\n",
       "      <td>0.0</td>\n",
       "      <td>0.0</td>\n",
       "      <td>0.0</td>\n",
       "      <td>0.0</td>\n",
       "      <td>0.0</td>\n",
       "      <td>0.0</td>\n",
       "      <td>0.0</td>\n",
       "      <td>0.0</td>\n",
       "      <td>0.0</td>\n",
       "    </tr>\n",
       "    <tr>\n",
       "      <th>608</th>\n",
       "      <td>0.020</td>\n",
       "      <td>0.016</td>\n",
       "      <td>0.016</td>\n",
       "      <td>0.0</td>\n",
       "      <td>0.0</td>\n",
       "      <td>0.00</td>\n",
       "      <td>0.00</td>\n",
       "      <td>0.0</td>\n",
       "      <td>0.0</td>\n",
       "      <td>0.032</td>\n",
       "      <td>...</td>\n",
       "      <td>0.0</td>\n",
       "      <td>0.0</td>\n",
       "      <td>0.0</td>\n",
       "      <td>0.0</td>\n",
       "      <td>0.0</td>\n",
       "      <td>0.0</td>\n",
       "      <td>0.0</td>\n",
       "      <td>0.0</td>\n",
       "      <td>0.0</td>\n",
       "      <td>0.0</td>\n",
       "    </tr>\n",
       "    <tr>\n",
       "      <th>609</th>\n",
       "      <td>0.024</td>\n",
       "      <td>0.000</td>\n",
       "      <td>0.000</td>\n",
       "      <td>0.0</td>\n",
       "      <td>0.0</td>\n",
       "      <td>0.00</td>\n",
       "      <td>0.00</td>\n",
       "      <td>0.0</td>\n",
       "      <td>0.0</td>\n",
       "      <td>0.032</td>\n",
       "      <td>...</td>\n",
       "      <td>0.0</td>\n",
       "      <td>0.0</td>\n",
       "      <td>0.0</td>\n",
       "      <td>0.0</td>\n",
       "      <td>0.0</td>\n",
       "      <td>0.0</td>\n",
       "      <td>0.0</td>\n",
       "      <td>0.0</td>\n",
       "      <td>0.0</td>\n",
       "      <td>0.0</td>\n",
       "    </tr>\n",
       "    <tr>\n",
       "      <th>610</th>\n",
       "      <td>0.040</td>\n",
       "      <td>0.000</td>\n",
       "      <td>0.000</td>\n",
       "      <td>0.0</td>\n",
       "      <td>0.0</td>\n",
       "      <td>0.04</td>\n",
       "      <td>0.00</td>\n",
       "      <td>0.0</td>\n",
       "      <td>0.0</td>\n",
       "      <td>0.000</td>\n",
       "      <td>...</td>\n",
       "      <td>0.0</td>\n",
       "      <td>0.0</td>\n",
       "      <td>0.0</td>\n",
       "      <td>0.0</td>\n",
       "      <td>0.0</td>\n",
       "      <td>0.0</td>\n",
       "      <td>0.0</td>\n",
       "      <td>0.0</td>\n",
       "      <td>0.0</td>\n",
       "      <td>0.0</td>\n",
       "    </tr>\n",
       "  </tbody>\n",
       "</table>\n",
       "<p>5 rows × 193609 columns</p>\n",
       "</div>"
      ],
      "text/plain": [
       "Movie  1       2       3       4       5       6       7       8       9       \\\n",
       "User                                                                            \n",
       "606     0.020   0.000   0.000     0.0     0.0    0.00    0.02     0.0     0.0   \n",
       "607     0.032   0.000   0.000     0.0     0.0    0.00    0.00     0.0     0.0   \n",
       "608     0.020   0.016   0.016     0.0     0.0    0.00    0.00     0.0     0.0   \n",
       "609     0.024   0.000   0.000     0.0     0.0    0.00    0.00     0.0     0.0   \n",
       "610     0.040   0.000   0.000     0.0     0.0    0.04    0.00     0.0     0.0   \n",
       "\n",
       "Movie  10      ...  193600  193601  193602  193603  193604  193605  193606  \\\n",
       "User           ...                                                           \n",
       "606     0.000  ...     0.0     0.0     0.0     0.0     0.0     0.0     0.0   \n",
       "607     0.000  ...     0.0     0.0     0.0     0.0     0.0     0.0     0.0   \n",
       "608     0.032  ...     0.0     0.0     0.0     0.0     0.0     0.0     0.0   \n",
       "609     0.032  ...     0.0     0.0     0.0     0.0     0.0     0.0     0.0   \n",
       "610     0.000  ...     0.0     0.0     0.0     0.0     0.0     0.0     0.0   \n",
       "\n",
       "Movie  193607  193608  193609  \n",
       "User                           \n",
       "606       0.0     0.0     0.0  \n",
       "607       0.0     0.0     0.0  \n",
       "608       0.0     0.0     0.0  \n",
       "609       0.0     0.0     0.0  \n",
       "610       0.0     0.0     0.0  \n",
       "\n",
       "[5 rows x 193609 columns]"
      ]
     },
     "execution_count": 37,
     "metadata": {},
     "output_type": "execute_result"
    }
   ],
   "source": [
    "movieratings_dataframe.tail()"
   ]
  },
  {
   "cell_type": "markdown",
   "metadata": {},
   "source": [
    "### Creating train-test data"
   ]
  },
  {
   "cell_type": "code",
   "execution_count": 38,
   "metadata": {},
   "outputs": [],
   "source": [
    "movieratings = np.asarray(movieratings_dataframe)"
   ]
  },
  {
   "cell_type": "code",
   "execution_count": 39,
   "metadata": {},
   "outputs": [],
   "source": [
    "test_ratings_per_user = 10  # The amount of ratings of one user that we will copy to the Test-set\n",
    "X_train = movieratings.copy() # Copy the whole list\n",
    "X_test = np.zeros(movieratings.shape) # Make a list with only zeros\n",
    "y_train = movieratings.copy() # Copy the whole list\n",
    "y_test = movieratings.copy() # Copy the whole list"
   ]
  },
  {
   "cell_type": "code",
   "execution_count": 40,
   "metadata": {},
   "outputs": [],
   "source": [
    "ratedlist = [] # This will contain all the movieratings in our test_set so we can check it later\n",
    "for i in range(0, movieratings.shape[0]): # For every user, we have to set a few movieratings to 0\n",
    "    ratedmovies = np.where(movieratings[i,:] > 0.0)[0] # Get a list of movies with a rating greater than 0\n",
    "    ratedlist.append(ratedmovies)\n",
    "    #print(ratedmovies)\n",
    "    index = np.random.choice(len(ratedmovies), test_ratings_per_user, replace=False)\n",
    "    \n",
    "    X_train[i,ratedmovies[index]] = 0 # Set rating to 0 in training set\n",
    "    X_test[i,ratedmovies[index]] = movieratings[i,ratedmovies[index]].copy() # Copy the value of the rating to the test set"
   ]
  },
  {
   "cell_type": "code",
   "execution_count": 41,
   "metadata": {},
   "outputs": [
    {
     "name": "stderr",
     "output_type": "stream",
     "text": [
      "c:\\Users\\Robbe Breens\\AppData\\Local\\Programs\\Python\\Python39\\lib\\site-packages\\numpy\\core\\_asarray.py:102: VisibleDeprecationWarning: Creating an ndarray from ragged nested sequences (which is a list-or-tuple of lists-or-tuples-or ndarrays with different lengths or shapes) is deprecated. If you meant to do this, you must specify 'dtype=object' when creating the ndarray.\n",
      "  return array(a, dtype, copy=False, order=order)\n"
     ]
    }
   ],
   "source": [
    "np.save(\"../data/preprocessed_data/X_train.npy\", X_train)\n",
    "np.save(\"../data/preprocessed_data/y_train.npy\", y_train)\n",
    "np.save(\"../data/preprocessed_data/X_test.npy\", X_test)\n",
    "np.save(\"../data/preprocessed_data/y_test.npy\", y_test)\n",
    "np.save(\"../data/preprocessed_data/ratedlist.npy\", np.asarray(ratedlist))"
   ]
  },
  {
   "cell_type": "markdown",
   "metadata": {},
   "source": [
    "## Upload this dataset to the cloud"
   ]
  },
  {
   "cell_type": "code",
   "execution_count": null,
   "metadata": {},
   "outputs": [],
   "source": []
  },
  {
   "cell_type": "markdown",
   "metadata": {},
   "source": [
    "## Make sure this file is executable in one run"
   ]
  },
  {
   "cell_type": "code",
   "execution_count": null,
   "metadata": {},
   "outputs": [],
   "source": []
  }
 ],
 "metadata": {
  "kernelspec": {
   "display_name": "Python 3.9.1 64-bit",
   "language": "python",
   "name": "python3"
  },
  "language_info": {
   "codemirror_mode": {
    "name": "ipython",
    "version": 3
   },
   "file_extension": ".py",
   "mimetype": "text/x-python",
   "name": "python",
   "nbconvert_exporter": "python",
   "pygments_lexer": "ipython3",
   "version": "3.9.1"
  },
  "vscode": {
   "interpreter": {
    "hash": "21db458d5e9acb69fbe1b01afd00b0a2fa60cb423771e60fa3b2ba316e169698"
   }
  }
 },
 "nbformat": 4,
 "nbformat_minor": 4
}
